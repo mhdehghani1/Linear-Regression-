{
 "cells": [
  {
   "cell_type": "markdown",
   "metadata": {},
   "source": [
    "<h1 align=center><font size = 7>Linear Regression</font></h1>\n"
   ]
  },
  {
   "cell_type": "markdown",
   "metadata": {},
   "source": [
    "# **Linear Regression**"
   ]
  },
  {
   "cell_type": "markdown",
   "metadata": {},
   "source": [
    "## Step1: Import the libraries"
   ]
  },
  {
   "cell_type": "code",
   "execution_count": 1,
   "metadata": {
    "_cell_guid": "b1076dfc-b9ad-4769-8c92-a6c4dae69d19",
    "_uuid": "8f2839f25d086af736a60e9eeb907d3b93b6e0e5",
    "execution": {
     "iopub.execute_input": "2022-07-16T07:31:26.051982Z",
     "iopub.status.busy": "2022-07-16T07:31:26.051465Z",
     "iopub.status.idle": "2022-07-16T07:31:26.602237Z",
     "shell.execute_reply": "2022-07-16T07:31:26.601318Z",
     "shell.execute_reply.started": "2022-07-16T07:31:26.051950Z"
    }
   },
   "outputs": [],
   "source": [
    "import pandas as pd\n",
    "import numpy as np\n",
    "import seaborn as sns\n",
    "import matplotlib.pyplot as plt"
   ]
  },
  {
   "cell_type": "markdown",
   "metadata": {},
   "source": [
    "## Step2: Import the Data"
   ]
  },
  {
   "cell_type": "code",
   "execution_count": 108,
   "metadata": {
    "execution": {
     "iopub.execute_input": "2022-07-16T07:31:26.750872Z",
     "iopub.status.busy": "2022-07-16T07:31:26.750521Z",
     "iopub.status.idle": "2022-07-16T07:31:26.766028Z",
     "shell.execute_reply": "2022-07-16T07:31:26.765314Z",
     "shell.execute_reply.started": "2022-07-16T07:31:26.750846Z"
    }
   },
   "outputs": [
    {
     "data": {
      "text/html": [
       "<div>\n",
       "<style scoped>\n",
       "    .dataframe tbody tr th:only-of-type {\n",
       "        vertical-align: middle;\n",
       "    }\n",
       "\n",
       "    .dataframe tbody tr th {\n",
       "        vertical-align: top;\n",
       "    }\n",
       "\n",
       "    .dataframe thead th {\n",
       "        text-align: right;\n",
       "    }\n",
       "</style>\n",
       "<table border=\"1\" class=\"dataframe\">\n",
       "  <thead>\n",
       "    <tr style=\"text-align: right;\">\n",
       "      <th></th>\n",
       "      <th>age</th>\n",
       "      <th>sex</th>\n",
       "      <th>bmi</th>\n",
       "      <th>children</th>\n",
       "      <th>smoker</th>\n",
       "      <th>region</th>\n",
       "      <th>charges</th>\n",
       "    </tr>\n",
       "  </thead>\n",
       "  <tbody>\n",
       "    <tr>\n",
       "      <th>0</th>\n",
       "      <td>19</td>\n",
       "      <td>female</td>\n",
       "      <td>27.900</td>\n",
       "      <td>0</td>\n",
       "      <td>yes</td>\n",
       "      <td>southwest</td>\n",
       "      <td>16884.92400</td>\n",
       "    </tr>\n",
       "    <tr>\n",
       "      <th>1</th>\n",
       "      <td>18</td>\n",
       "      <td>male</td>\n",
       "      <td>33.770</td>\n",
       "      <td>1</td>\n",
       "      <td>no</td>\n",
       "      <td>southeast</td>\n",
       "      <td>1725.55230</td>\n",
       "    </tr>\n",
       "    <tr>\n",
       "      <th>2</th>\n",
       "      <td>28</td>\n",
       "      <td>male</td>\n",
       "      <td>33.000</td>\n",
       "      <td>3</td>\n",
       "      <td>no</td>\n",
       "      <td>southeast</td>\n",
       "      <td>4449.46200</td>\n",
       "    </tr>\n",
       "    <tr>\n",
       "      <th>3</th>\n",
       "      <td>33</td>\n",
       "      <td>male</td>\n",
       "      <td>22.705</td>\n",
       "      <td>0</td>\n",
       "      <td>no</td>\n",
       "      <td>northwest</td>\n",
       "      <td>21984.47061</td>\n",
       "    </tr>\n",
       "    <tr>\n",
       "      <th>4</th>\n",
       "      <td>32</td>\n",
       "      <td>male</td>\n",
       "      <td>28.880</td>\n",
       "      <td>0</td>\n",
       "      <td>no</td>\n",
       "      <td>northwest</td>\n",
       "      <td>3866.85520</td>\n",
       "    </tr>\n",
       "    <tr>\n",
       "      <th>...</th>\n",
       "      <td>...</td>\n",
       "      <td>...</td>\n",
       "      <td>...</td>\n",
       "      <td>...</td>\n",
       "      <td>...</td>\n",
       "      <td>...</td>\n",
       "      <td>...</td>\n",
       "    </tr>\n",
       "    <tr>\n",
       "      <th>1333</th>\n",
       "      <td>50</td>\n",
       "      <td>male</td>\n",
       "      <td>30.970</td>\n",
       "      <td>3</td>\n",
       "      <td>no</td>\n",
       "      <td>northwest</td>\n",
       "      <td>10600.54830</td>\n",
       "    </tr>\n",
       "    <tr>\n",
       "      <th>1334</th>\n",
       "      <td>18</td>\n",
       "      <td>female</td>\n",
       "      <td>31.920</td>\n",
       "      <td>0</td>\n",
       "      <td>no</td>\n",
       "      <td>northeast</td>\n",
       "      <td>2205.98080</td>\n",
       "    </tr>\n",
       "    <tr>\n",
       "      <th>1335</th>\n",
       "      <td>18</td>\n",
       "      <td>female</td>\n",
       "      <td>36.850</td>\n",
       "      <td>0</td>\n",
       "      <td>no</td>\n",
       "      <td>southeast</td>\n",
       "      <td>1629.83350</td>\n",
       "    </tr>\n",
       "    <tr>\n",
       "      <th>1336</th>\n",
       "      <td>21</td>\n",
       "      <td>female</td>\n",
       "      <td>25.800</td>\n",
       "      <td>0</td>\n",
       "      <td>no</td>\n",
       "      <td>southwest</td>\n",
       "      <td>2007.94500</td>\n",
       "    </tr>\n",
       "    <tr>\n",
       "      <th>1337</th>\n",
       "      <td>61</td>\n",
       "      <td>female</td>\n",
       "      <td>29.070</td>\n",
       "      <td>0</td>\n",
       "      <td>yes</td>\n",
       "      <td>northwest</td>\n",
       "      <td>29141.36030</td>\n",
       "    </tr>\n",
       "  </tbody>\n",
       "</table>\n",
       "<p>1338 rows × 7 columns</p>\n",
       "</div>"
      ],
      "text/plain": [
       "      age     sex     bmi  children smoker     region      charges\n",
       "0      19  female  27.900         0    yes  southwest  16884.92400\n",
       "1      18    male  33.770         1     no  southeast   1725.55230\n",
       "2      28    male  33.000         3     no  southeast   4449.46200\n",
       "3      33    male  22.705         0     no  northwest  21984.47061\n",
       "4      32    male  28.880         0     no  northwest   3866.85520\n",
       "...   ...     ...     ...       ...    ...        ...          ...\n",
       "1333   50    male  30.970         3     no  northwest  10600.54830\n",
       "1334   18  female  31.920         0     no  northeast   2205.98080\n",
       "1335   18  female  36.850         0     no  southeast   1629.83350\n",
       "1336   21  female  25.800         0     no  southwest   2007.94500\n",
       "1337   61  female  29.070         0    yes  northwest  29141.36030\n",
       "\n",
       "[1338 rows x 7 columns]"
      ]
     },
     "execution_count": 108,
     "metadata": {},
     "output_type": "execute_result"
    }
   ],
   "source": [
    "df=pd.read_csv('insurance.csv')\n",
    "df"
   ]
  },
  {
   "cell_type": "markdown",
   "metadata": {},
   "source": [
    "## Step3: Data overview (General information about dataset)"
   ]
  },
  {
   "cell_type": "code",
   "execution_count": 4,
   "metadata": {
    "execution": {
     "iopub.execute_input": "2022-07-16T07:31:27.110888Z",
     "iopub.status.busy": "2022-07-16T07:31:27.110511Z",
     "iopub.status.idle": "2022-07-16T07:31:27.128364Z",
     "shell.execute_reply": "2022-07-16T07:31:27.127639Z",
     "shell.execute_reply.started": "2022-07-16T07:31:27.110857Z"
    }
   },
   "outputs": [
    {
     "name": "stdout",
     "output_type": "stream",
     "text": [
      "<class 'pandas.core.frame.DataFrame'>\n",
      "RangeIndex: 1338 entries, 0 to 1337\n",
      "Data columns (total 7 columns):\n",
      " #   Column    Non-Null Count  Dtype  \n",
      "---  ------    --------------  -----  \n",
      " 0   age       1338 non-null   int64  \n",
      " 1   sex       1338 non-null   object \n",
      " 2   bmi       1338 non-null   float64\n",
      " 3   children  1338 non-null   int64  \n",
      " 4   smoker    1338 non-null   object \n",
      " 5   region    1338 non-null   object \n",
      " 6   charges   1338 non-null   float64\n",
      "dtypes: float64(2), int64(2), object(3)\n",
      "memory usage: 73.3+ KB\n"
     ]
    }
   ],
   "source": [
    "df.info()"
   ]
  },
  {
   "cell_type": "markdown",
   "metadata": {},
   "source": [
    "## Step4: Data preparation --> Dealing with Categorical Data"
   ]
  },
  {
   "cell_type": "markdown",
   "metadata": {},
   "source": [
    "### One Hot (Encode the Categorical features)"
   ]
  },
  {
   "cell_type": "code",
   "execution_count": 96,
   "metadata": {
    "execution": {
     "iopub.execute_input": "2022-07-16T07:31:27.751105Z",
     "iopub.status.busy": "2022-07-16T07:31:27.750742Z",
     "iopub.status.idle": "2022-07-16T07:31:27.759310Z",
     "shell.execute_reply": "2022-07-16T07:31:27.758168Z",
     "shell.execute_reply.started": "2022-07-16T07:31:27.751078Z"
    }
   },
   "outputs": [
    {
     "data": {
      "text/plain": [
       "male      676\n",
       "female    662\n",
       "Name: sex, dtype: int64"
      ]
     },
     "execution_count": 96,
     "metadata": {},
     "output_type": "execute_result"
    }
   ],
   "source": [
    "df['sex'].value_counts()"
   ]
  },
  {
   "cell_type": "code",
   "execution_count": 97,
   "metadata": {},
   "outputs": [
    {
     "data": {
      "text/plain": [
       "no     1064\n",
       "yes     274\n",
       "Name: smoker, dtype: int64"
      ]
     },
     "execution_count": 97,
     "metadata": {},
     "output_type": "execute_result"
    }
   ],
   "source": [
    "df['smoker'].value_counts()"
   ]
  },
  {
   "cell_type": "code",
   "execution_count": 98,
   "metadata": {},
   "outputs": [
    {
     "data": {
      "text/plain": [
       "southeast    364\n",
       "southwest    325\n",
       "northwest    325\n",
       "northeast    324\n",
       "Name: region, dtype: int64"
      ]
     },
     "execution_count": 98,
     "metadata": {},
     "output_type": "execute_result"
    }
   ],
   "source": [
    "df['region'].value_counts()\n"
   ]
  },
  {
   "cell_type": "code",
   "execution_count": 109,
   "metadata": {},
   "outputs": [],
   "source": [
    "from sklearn.compose import make_column_transformer\n",
    "from sklearn.preprocessing import OneHotEncoder\n",
    "df1 = df[['sex','smoker','region']]\n",
    "transformer = make_column_transformer( (OneHotEncoder(), ['sex','smoker','region']),remainder='passthrough')\n",
    "\n",
    "transformed = transformer.fit_transform(df1)\n",
    "transformed_df = pd.DataFrame(transformed, columns=transformer.get_feature_names())\n"
   ]
  },
  {
   "cell_type": "code",
   "execution_count": 139,
   "metadata": {},
   "outputs": [
    {
     "data": {
      "text/html": [
       "<div>\n",
       "<style scoped>\n",
       "    .dataframe tbody tr th:only-of-type {\n",
       "        vertical-align: middle;\n",
       "    }\n",
       "\n",
       "    .dataframe tbody tr th {\n",
       "        vertical-align: top;\n",
       "    }\n",
       "\n",
       "    .dataframe thead th {\n",
       "        text-align: right;\n",
       "    }\n",
       "</style>\n",
       "<table border=\"1\" class=\"dataframe\">\n",
       "  <thead>\n",
       "    <tr style=\"text-align: right;\">\n",
       "      <th></th>\n",
       "      <th>onehotencoder__x0_female</th>\n",
       "      <th>onehotencoder__x0_male</th>\n",
       "      <th>onehotencoder__x1_no</th>\n",
       "      <th>onehotencoder__x1_yes</th>\n",
       "      <th>onehotencoder__x2_northeast</th>\n",
       "      <th>onehotencoder__x2_northwest</th>\n",
       "      <th>onehotencoder__x2_southeast</th>\n",
       "      <th>onehotencoder__x2_southwest</th>\n",
       "      <th>age</th>\n",
       "      <th>bmi</th>\n",
       "      <th>children</th>\n",
       "      <th>charges</th>\n",
       "    </tr>\n",
       "  </thead>\n",
       "  <tbody>\n",
       "    <tr>\n",
       "      <th>0</th>\n",
       "      <td>1.0</td>\n",
       "      <td>0.0</td>\n",
       "      <td>0.0</td>\n",
       "      <td>1.0</td>\n",
       "      <td>0.0</td>\n",
       "      <td>0.0</td>\n",
       "      <td>0.0</td>\n",
       "      <td>1.0</td>\n",
       "      <td>19</td>\n",
       "      <td>27.900</td>\n",
       "      <td>0</td>\n",
       "      <td>16884.92400</td>\n",
       "    </tr>\n",
       "    <tr>\n",
       "      <th>1</th>\n",
       "      <td>0.0</td>\n",
       "      <td>1.0</td>\n",
       "      <td>1.0</td>\n",
       "      <td>0.0</td>\n",
       "      <td>0.0</td>\n",
       "      <td>0.0</td>\n",
       "      <td>1.0</td>\n",
       "      <td>0.0</td>\n",
       "      <td>18</td>\n",
       "      <td>33.770</td>\n",
       "      <td>1</td>\n",
       "      <td>1725.55230</td>\n",
       "    </tr>\n",
       "    <tr>\n",
       "      <th>2</th>\n",
       "      <td>0.0</td>\n",
       "      <td>1.0</td>\n",
       "      <td>1.0</td>\n",
       "      <td>0.0</td>\n",
       "      <td>0.0</td>\n",
       "      <td>0.0</td>\n",
       "      <td>1.0</td>\n",
       "      <td>0.0</td>\n",
       "      <td>28</td>\n",
       "      <td>33.000</td>\n",
       "      <td>3</td>\n",
       "      <td>4449.46200</td>\n",
       "    </tr>\n",
       "    <tr>\n",
       "      <th>3</th>\n",
       "      <td>0.0</td>\n",
       "      <td>1.0</td>\n",
       "      <td>1.0</td>\n",
       "      <td>0.0</td>\n",
       "      <td>0.0</td>\n",
       "      <td>1.0</td>\n",
       "      <td>0.0</td>\n",
       "      <td>0.0</td>\n",
       "      <td>33</td>\n",
       "      <td>22.705</td>\n",
       "      <td>0</td>\n",
       "      <td>21984.47061</td>\n",
       "    </tr>\n",
       "    <tr>\n",
       "      <th>4</th>\n",
       "      <td>0.0</td>\n",
       "      <td>1.0</td>\n",
       "      <td>1.0</td>\n",
       "      <td>0.0</td>\n",
       "      <td>0.0</td>\n",
       "      <td>1.0</td>\n",
       "      <td>0.0</td>\n",
       "      <td>0.0</td>\n",
       "      <td>32</td>\n",
       "      <td>28.880</td>\n",
       "      <td>0</td>\n",
       "      <td>3866.85520</td>\n",
       "    </tr>\n",
       "  </tbody>\n",
       "</table>\n",
       "</div>"
      ],
      "text/plain": [
       "   onehotencoder__x0_female  onehotencoder__x0_male  onehotencoder__x1_no  \\\n",
       "0                       1.0                     0.0                   0.0   \n",
       "1                       0.0                     1.0                   1.0   \n",
       "2                       0.0                     1.0                   1.0   \n",
       "3                       0.0                     1.0                   1.0   \n",
       "4                       0.0                     1.0                   1.0   \n",
       "\n",
       "   onehotencoder__x1_yes  onehotencoder__x2_northeast  \\\n",
       "0                    1.0                          0.0   \n",
       "1                    0.0                          0.0   \n",
       "2                    0.0                          0.0   \n",
       "3                    0.0                          0.0   \n",
       "4                    0.0                          0.0   \n",
       "\n",
       "   onehotencoder__x2_northwest  onehotencoder__x2_southeast  \\\n",
       "0                          0.0                          0.0   \n",
       "1                          0.0                          1.0   \n",
       "2                          0.0                          1.0   \n",
       "3                          1.0                          0.0   \n",
       "4                          1.0                          0.0   \n",
       "\n",
       "   onehotencoder__x2_southwest  age     bmi  children      charges  \n",
       "0                          1.0   19  27.900         0  16884.92400  \n",
       "1                          0.0   18  33.770         1   1725.55230  \n",
       "2                          0.0   28  33.000         3   4449.46200  \n",
       "3                          0.0   33  22.705         0  21984.47061  \n",
       "4                          0.0   32  28.880         0   3866.85520  "
      ]
     },
     "execution_count": 139,
     "metadata": {},
     "output_type": "execute_result"
    }
   ],
   "source": [
    "df1=df.drop(['sex','smoker','region'],axis=1)\n",
    "dfFinal=pd.concat([transformed_df, df1], axis=1, ignore_index=False)\n",
    "dfFinal.head()"
   ]
  },
  {
   "cell_type": "markdown",
   "metadata": {},
   "source": [
    "# 📈 Training a Linear Regression Model"
   ]
  },
  {
   "cell_type": "markdown",
   "metadata": {},
   "source": [
    "## Step5: Determine the Features & Target Variable"
   ]
  },
  {
   "cell_type": "code",
   "execution_count": 143,
   "metadata": {
    "execution": {
     "iopub.execute_input": "2022-07-16T07:31:29.691334Z",
     "iopub.status.busy": "2022-07-16T07:31:29.690917Z",
     "iopub.status.idle": "2022-07-16T07:31:29.703661Z",
     "shell.execute_reply": "2022-07-16T07:31:29.702787Z",
     "shell.execute_reply.started": "2022-07-16T07:31:29.691301Z"
    }
   },
   "outputs": [],
   "source": [
    "Xs=dfFinal.drop('charges',axis=1)\n",
    "Ys=dfFinal['charges']\n"
   ]
  },
  {
   "cell_type": "markdown",
   "metadata": {},
   "source": [
    "## Step6: Split the Dataset to Train & Test"
   ]
  },
  {
   "cell_type": "code",
   "execution_count": 145,
   "metadata": {
    "execution": {
     "iopub.execute_input": "2022-07-16T07:31:30.851425Z",
     "iopub.status.busy": "2022-07-16T07:31:30.850619Z",
     "iopub.status.idle": "2022-07-16T07:31:30.860116Z",
     "shell.execute_reply": "2022-07-16T07:31:30.859155Z",
     "shell.execute_reply.started": "2022-07-16T07:31:30.851385Z"
    }
   },
   "outputs": [
    {
     "data": {
      "text/plain": [
       "((268, 11), (1070, 11), (268,), (1070,))"
      ]
     },
     "execution_count": 145,
     "metadata": {},
     "output_type": "execute_result"
    }
   ],
   "source": [
    "from sklearn.model_selection import train_test_split\n",
    "X_train, X_test, y_train, y_test = train_test_split(Xs, Ys, test_size=0.2, random_state=101)\n",
    "X_test.shape,X_train.shape,y_test.shape,y_train.shape"
   ]
  },
  {
   "cell_type": "markdown",
   "metadata": {},
   "source": [
    "## Step7: Train the Model using the X_train and y_train"
   ]
  },
  {
   "cell_type": "code",
   "execution_count": 146,
   "metadata": {
    "execution": {
     "iopub.execute_input": "2022-07-16T07:31:31.231664Z",
     "iopub.status.busy": "2022-07-16T07:31:31.230623Z",
     "iopub.status.idle": "2022-07-16T07:31:31.236082Z",
     "shell.execute_reply": "2022-07-16T07:31:31.235157Z",
     "shell.execute_reply.started": "2022-07-16T07:31:31.231625Z"
    }
   },
   "outputs": [
    {
     "data": {
      "text/plain": [
       "LinearRegression()"
      ]
     },
     "execution_count": 146,
     "metadata": {},
     "output_type": "execute_result"
    }
   ],
   "source": [
    "from sklearn.linear_model import LinearRegression\n",
    "model=LinearRegression()\n",
    "\n",
    "model.fit(X_train,y_train)"
   ]
  },
  {
   "cell_type": "markdown",
   "metadata": {},
   "source": [
    "## Step8: Coeficient Matrix (Find the coefficients)"
   ]
  },
  {
   "cell_type": "code",
   "execution_count": 147,
   "metadata": {
    "execution": {
     "iopub.execute_input": "2022-07-16T07:31:32.011338Z",
     "iopub.status.busy": "2022-07-16T07:31:32.010918Z",
     "iopub.status.idle": "2022-07-16T07:31:32.017925Z",
     "shell.execute_reply": "2022-07-16T07:31:32.016705Z",
     "shell.execute_reply.started": "2022-07-16T07:31:32.011300Z"
    }
   },
   "outputs": [
    {
     "data": {
      "text/html": [
       "<div>\n",
       "<style scoped>\n",
       "    .dataframe tbody tr th:only-of-type {\n",
       "        vertical-align: middle;\n",
       "    }\n",
       "\n",
       "    .dataframe tbody tr th {\n",
       "        vertical-align: top;\n",
       "    }\n",
       "\n",
       "    .dataframe thead th {\n",
       "        text-align: right;\n",
       "    }\n",
       "</style>\n",
       "<table border=\"1\" class=\"dataframe\">\n",
       "  <thead>\n",
       "    <tr style=\"text-align: right;\">\n",
       "      <th></th>\n",
       "      <th>Coef</th>\n",
       "    </tr>\n",
       "  </thead>\n",
       "  <tbody>\n",
       "    <tr>\n",
       "      <th>onehotencoder__x0_female</th>\n",
       "      <td>-54.371923</td>\n",
       "    </tr>\n",
       "    <tr>\n",
       "      <th>onehotencoder__x0_male</th>\n",
       "      <td>54.371923</td>\n",
       "    </tr>\n",
       "    <tr>\n",
       "      <th>onehotencoder__x1_no</th>\n",
       "      <td>-11827.918983</td>\n",
       "    </tr>\n",
       "    <tr>\n",
       "      <th>onehotencoder__x1_yes</th>\n",
       "      <td>11827.918983</td>\n",
       "    </tr>\n",
       "    <tr>\n",
       "      <th>onehotencoder__x2_northeast</th>\n",
       "      <td>424.392856</td>\n",
       "    </tr>\n",
       "    <tr>\n",
       "      <th>onehotencoder__x2_northwest</th>\n",
       "      <td>525.225009</td>\n",
       "    </tr>\n",
       "    <tr>\n",
       "      <th>onehotencoder__x2_southeast</th>\n",
       "      <td>-489.503468</td>\n",
       "    </tr>\n",
       "    <tr>\n",
       "      <th>onehotencoder__x2_southwest</th>\n",
       "      <td>-460.114397</td>\n",
       "    </tr>\n",
       "    <tr>\n",
       "      <th>age</th>\n",
       "      <td>244.506584</td>\n",
       "    </tr>\n",
       "    <tr>\n",
       "      <th>bmi</th>\n",
       "      <td>364.951179</td>\n",
       "    </tr>\n",
       "    <tr>\n",
       "      <th>children</th>\n",
       "      <td>413.001067</td>\n",
       "    </tr>\n",
       "  </tbody>\n",
       "</table>\n",
       "</div>"
      ],
      "text/plain": [
       "                                     Coef\n",
       "onehotencoder__x0_female       -54.371923\n",
       "onehotencoder__x0_male          54.371923\n",
       "onehotencoder__x1_no        -11827.918983\n",
       "onehotencoder__x1_yes        11827.918983\n",
       "onehotencoder__x2_northeast    424.392856\n",
       "onehotencoder__x2_northwest    525.225009\n",
       "onehotencoder__x2_southeast   -489.503468\n",
       "onehotencoder__x2_southwest   -460.114397\n",
       "age                            244.506584\n",
       "bmi                            364.951179\n",
       "children                       413.001067"
      ]
     },
     "execution_count": 147,
     "metadata": {},
     "output_type": "execute_result"
    }
   ],
   "source": [
    "pd.DataFrame(model.coef_,Xs.columns,columns=['Coef'])"
   ]
  },
  {
   "cell_type": "markdown",
   "metadata": {},
   "source": [
    "## Step8: Predicting Test Data"
   ]
  },
  {
   "cell_type": "code",
   "execution_count": 150,
   "metadata": {
    "execution": {
     "iopub.execute_input": "2022-07-16T07:31:32.751272Z",
     "iopub.status.busy": "2022-07-16T07:31:32.750656Z",
     "iopub.status.idle": "2022-07-16T07:31:32.759068Z",
     "shell.execute_reply": "2022-07-16T07:31:32.758346Z",
     "shell.execute_reply.started": "2022-07-16T07:31:32.751233Z"
    }
   },
   "outputs": [
    {
     "data": {
      "text/html": [
       "<div>\n",
       "<style scoped>\n",
       "    .dataframe tbody tr th:only-of-type {\n",
       "        vertical-align: middle;\n",
       "    }\n",
       "\n",
       "    .dataframe tbody tr th {\n",
       "        vertical-align: top;\n",
       "    }\n",
       "\n",
       "    .dataframe thead th {\n",
       "        text-align: right;\n",
       "    }\n",
       "</style>\n",
       "<table border=\"1\" class=\"dataframe\">\n",
       "  <thead>\n",
       "    <tr style=\"text-align: right;\">\n",
       "      <th></th>\n",
       "      <th>Ytest</th>\n",
       "      <th>Ypred</th>\n",
       "    </tr>\n",
       "  </thead>\n",
       "  <tbody>\n",
       "    <tr>\n",
       "      <th>44</th>\n",
       "      <td>6079.67150</td>\n",
       "      <td>10870.194493</td>\n",
       "    </tr>\n",
       "    <tr>\n",
       "      <th>134</th>\n",
       "      <td>2457.21115</td>\n",
       "      <td>2931.009563</td>\n",
       "    </tr>\n",
       "    <tr>\n",
       "      <th>980</th>\n",
       "      <td>25517.11363</td>\n",
       "      <td>10552.515674</td>\n",
       "    </tr>\n",
       "    <tr>\n",
       "      <th>618</th>\n",
       "      <td>34439.85590</td>\n",
       "      <td>27006.858470</td>\n",
       "    </tr>\n",
       "    <tr>\n",
       "      <th>1238</th>\n",
       "      <td>6985.50695</td>\n",
       "      <td>6216.465373</td>\n",
       "    </tr>\n",
       "    <tr>\n",
       "      <th>...</th>\n",
       "      <td>...</td>\n",
       "      <td>...</td>\n",
       "    </tr>\n",
       "    <tr>\n",
       "      <th>648</th>\n",
       "      <td>1712.22700</td>\n",
       "      <td>2446.729154</td>\n",
       "    </tr>\n",
       "    <tr>\n",
       "      <th>1023</th>\n",
       "      <td>1711.02680</td>\n",
       "      <td>55.386787</td>\n",
       "    </tr>\n",
       "    <tr>\n",
       "      <th>28</th>\n",
       "      <td>2775.19215</td>\n",
       "      <td>126.662937</td>\n",
       "    </tr>\n",
       "    <tr>\n",
       "      <th>798</th>\n",
       "      <td>11848.14100</td>\n",
       "      <td>12912.516856</td>\n",
       "    </tr>\n",
       "    <tr>\n",
       "      <th>457</th>\n",
       "      <td>11840.77505</td>\n",
       "      <td>12702.651855</td>\n",
       "    </tr>\n",
       "  </tbody>\n",
       "</table>\n",
       "<p>268 rows × 2 columns</p>\n",
       "</div>"
      ],
      "text/plain": [
       "            Ytest         Ypred\n",
       "44     6079.67150  10870.194493\n",
       "134    2457.21115   2931.009563\n",
       "980   25517.11363  10552.515674\n",
       "618   34439.85590  27006.858470\n",
       "1238   6985.50695   6216.465373\n",
       "...           ...           ...\n",
       "648    1712.22700   2446.729154\n",
       "1023   1711.02680     55.386787\n",
       "28     2775.19215    126.662937\n",
       "798   11848.14100  12912.516856\n",
       "457   11840.77505  12702.651855\n",
       "\n",
       "[268 rows x 2 columns]"
      ]
     },
     "execution_count": 150,
     "metadata": {},
     "output_type": "execute_result"
    }
   ],
   "source": [
    "yPred=model.predict(X_test)\n",
    "pd.DataFrame({'Ytest':y_test,'Ypred':yPred})"
   ]
  },
  {
   "cell_type": "markdown",
   "metadata": {},
   "source": [
    "## Step9: Evalutaing the Model (Find the error (MSE) of the model)"
   ]
  },
  {
   "cell_type": "code",
   "execution_count": 153,
   "metadata": {
    "execution": {
     "iopub.execute_input": "2022-07-16T07:31:33.021526Z",
     "iopub.status.busy": "2022-07-16T07:31:33.020901Z",
     "iopub.status.idle": "2022-07-16T07:31:33.028121Z",
     "shell.execute_reply": "2022-07-16T07:31:33.027331Z",
     "shell.execute_reply.started": "2022-07-16T07:31:33.021479Z"
    }
   },
   "outputs": [
    {
     "data": {
      "text/plain": [
       "(4036.8740283584416, 33748393.37059593, 5809.336741022673)"
      ]
     },
     "execution_count": 153,
     "metadata": {},
     "output_type": "execute_result"
    }
   ],
   "source": [
    "from sklearn import metrics\n",
    "MAE=metrics.mean_absolute_error(y_test,yPred)\n",
    "MSE=metrics.mean_squared_error(y_test,yPred)\n",
    "RMSE=np.sqrt(MSE)\n",
    "MAE,MSE,RMSE"
   ]
  },
  {
   "cell_type": "code",
   "execution_count": 154,
   "metadata": {},
   "outputs": [
    {
     "data": {
      "text/plain": [
       "13270.422265141257"
      ]
     },
     "execution_count": 154,
     "metadata": {},
     "output_type": "execute_result"
    }
   ],
   "source": [
    "dfFinal['charges'].mean()"
   ]
  },
  {
   "cell_type": "markdown",
   "metadata": {},
   "source": [
    "## Step10: Residuals (Difference between y_test and y_pred)"
   ]
  },
  {
   "cell_type": "code",
   "execution_count": 156,
   "metadata": {
    "execution": {
     "iopub.execute_input": "2022-07-16T07:31:33.530764Z",
     "iopub.status.busy": "2022-07-16T07:31:33.530405Z",
     "iopub.status.idle": "2022-07-16T07:31:33.535734Z",
     "shell.execute_reply": "2022-07-16T07:31:33.534831Z",
     "shell.execute_reply.started": "2022-07-16T07:31:33.530735Z"
    }
   },
   "outputs": [
    {
     "data": {
      "image/png": "[encoded data removed]",
      "text/plain": [
       "<Figure size 360x360 with 1 Axes>"
      ]
     },
     "metadata": {
      "needs_background": "light"
     },
     "output_type": "display_data"
    }
   ],
   "source": [
    "test_Residuals=y_test-yPred\n",
    "sns.displot(test_Residuals,bins=25,kde=True);"
   ]
  },
  {
   "cell_type": "code",
   "execution_count": 158,
   "metadata": {},
   "outputs": [
    {
     "data": {
      "image/png": "[encoded data removed]",
      "text/plain": [
       "<Figure size 432x288 with 1 Axes>"
      ]
     },
     "metadata": {
      "needs_background": "light"
     },
     "output_type": "display_data"
    }
   ],
   "source": [
    "sns.scatterplot(x=y_test,y=yPred);"
   ]
  },
  {
   "cell_type": "code",
   "execution_count": 159,
   "metadata": {},
   "outputs": [
    {
     "data": {
      "image/png": "[encoded data removed]",
      "text/plain": [
       "<Figure size 432x288 with 1 Axes>"
      ]
     },
     "metadata": {
      "needs_background": "light"
     },
     "output_type": "display_data"
    }
   ],
   "source": [
    "sns.scatterplot(x=y_test,y=test_Residuals);\n",
    "plt.axhline(y=0,color='r',ls='--');"
   ]
  },
  {
   "cell_type": "markdown",
   "metadata": {},
   "source": [
    "## Step11: Saving and Loading the Model (Save the trained model and load that again)"
   ]
  },
  {
   "cell_type": "code",
   "execution_count": 161,
   "metadata": {},
   "outputs": [
    {
     "data": {
      "text/plain": [
       "['Reg_OneHot.joblib']"
      ]
     },
     "execution_count": 161,
     "metadata": {},
     "output_type": "execute_result"
    }
   ],
   "source": [
    "from joblib import dump,load\n",
    "finalModel=LinearRegression()\n",
    "finalModel.fit(Xs,Ys)\n",
    "dump(finalModel,'Reg_OneHot.joblib')"
   ]
  },
  {
   "cell_type": "code",
   "execution_count": 162,
   "metadata": {},
   "outputs": [],
   "source": [
    "loadModel=load(filename='Reg_OneHot.joblib')"
   ]
  },
  {
   "cell_type": "markdown",
   "metadata": {
    "execution": {
     "iopub.execute_input": "2022-07-16T07:31:35.752322Z",
     "iopub.status.busy": "2022-07-16T07:31:35.751615Z",
     "iopub.status.idle": "2022-07-16T07:31:35.769592Z",
     "shell.execute_reply": "2022-07-16T07:31:35.768511Z",
     "shell.execute_reply.started": "2022-07-16T07:31:35.752289Z"
    }
   },
   "source": [
    "## Step12: Predict a sample  (ex: [19, 27.9, 0,0,1,0,0,1])"
   ]
  },
  {
   "cell_type": "code",
   "execution_count": 167,
   "metadata": {},
   "outputs": [
    {
     "data": {
      "text/plain": [
       "array([ 1681.33429041,  8720.46352176, 32224.38303005, 19473.29637568,\n",
       "        8950.59166811])"
      ]
     },
     "execution_count": 167,
     "metadata": {},
     "output_type": "execute_result"
    }
   ],
   "source": [
    "testData=[[0,0,1,0,0,1,0,0,19,27,0],\n",
    "[0,0,1,0,0,1,0,0,39,27,4],\n",
    "[0,1,1,1,0,1,0,1,10,90,0],\n",
    "[1,0,1,0,1,1,0,1,70,33,5],\n",
    "[0,1,1,0,0,1,1,0,25,44,1],\n",
    "]\n",
    "loadModel.predict(testData)"
   ]
  }
 ],
 "metadata": {
  "interpreter": {
   "hash": "14e211ccd719689179c5b0a317ad259f1d017ffb452431d8a20002120174cfc6"
  },
  "kernelspec": {
   "display_name": "Python 3.9.7 ('base')",
   "language": "python",
   "name": "python3"
  },
  "language_info": {
   "codemirror_mode": {
    "name": "ipython",
    "version": 3
   },
   "file_extension": ".py",
   "mimetype": "text/x-python",
   "name": "python",
   "nbconvert_exporter": "python",
   "pygments_lexer": "ipython3",
   "version": "3.9.7"
  }
 },
 "nbformat": 4,
 "nbformat_minor": 4
}
